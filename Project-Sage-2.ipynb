{
 "cells": [
  {
   "cell_type": "markdown",
   "metadata": {},
   "source": [
    "### Study of the motion of a projectile"
   ]
  },
  {
   "cell_type": "markdown",
   "metadata": {},
   "source": [
    "* A projectile is any object thrown into the atmosphere so that it falls under the effect of gravity.\n",
    "* Applications :  Basketball, launch of a rocket, ..."
   ]
  },
  {
   "cell_type": "markdown",
   "metadata": {},
   "source": [
    "Equation of the trajectory\n",
    "\n",
    "$y=-\\frac{g}{2{V_0}^2cos^2(\\alpha)} x^2+ tan(\\alpha)x+y_0$\n",
    "\n",
    "Highest point \n",
    "\n",
    "$H=\\frac{{V_0}^2{sin^2(\\alpha)}}{2g} + y_0$\n",
    "\n",
    "Range \n",
    "\n",
    "$X=\\frac{V_0^2sin(\\alpha)cos(\\alpha)+V_0cos(\\alpha)\\sqrt{V_0^2 sin^2(\\alpha)+2gy_0}}{g}$\n"
   ]
  },
  {
   "cell_type": "markdown",
   "metadata": {},
   "source": [
    "<img src=\"projectile.gif\" width=\"600\" align=\"center\">"
   ]
  },
  {
   "cell_type": "code",
   "execution_count": 1,
   "metadata": {
    "scrolled": false
   },
   "outputs": [
    {
     "data": {
      "application/vnd.jupyter.widget-view+json": {
       "model_id": "b780115920b5450e963a6906db3a6943",
       "version_major": 2,
       "version_minor": 0
      },
      "text/plain": [
       "Interactive function <function projectile at 0x7f255144f430> with 4 widgets\n",
       "  g: SelectionSlider(description='…"
      ]
     },
     "metadata": {},
     "output_type": "display_data"
    }
   ],
   "source": [
    "import math as m\n",
    "\n",
    "@interact\n",
    "def projectile(g=slider([round(1.6,1),round(3.7,1),round(8.87,1),round(9.8,1),round(24.5,1)]), \n",
    "               alpha=slider([0..89]), y_0=slider([0..1000]),V_0=slider([0..300])):\n",
    "    \n",
    "    def cartesian_equation(x):                #Define a function that returns the cartesian equation : y=f(x)\n",
    "        if V_0==0:\n",
    "            return 0\n",
    "        else:\n",
    "            return -0.5*g/(V_0**2*(cos(alpha*m.pi/180.))**2)*x**2+tan(alpha*pi/180)*x+y_0\n",
    "        \n",
    "    def maximum_height(x):                   #Create a function to calculate the maximum height of the projectile\n",
    "        if V_0==0 and g==0:                  #as a function of alpha, V_0, y_0 and g\n",
    "            return 0\n",
    "        else:\n",
    "            return V_0**2.*(sin(alpha*m.pi/180.))**2/(2*g)+y_0\n",
    "    \n",
    "    def z(x):                                #Create a function to calculate the longest range of the projectile                    \n",
    "        return ((V_0**2*sin(alpha*m.pi/180)*cos(alpha*m.pi/180))+(V_0*cos(alpha*m.pi/180)*m.sqrt(V_0**2*(sin(alpha*m.pi/180))**2+2*g*y_0)))/g\n",
    "    \n",
    "    \"Create a plot to show the trajectory of the projectile\"\n",
    "    trajectory= plot(cartesian_equation(x), x, 0, 1000, color=\"red\", xmin=0, xmax=1000, \n",
    "                     ymin=-200, plot_points=100, title = \"Projectile Motion\",\n",
    "                     legend_label='Trajectory', linestyle=\"--\", thickness=2)\n",
    "    \n",
    "    \"Creating a plot to show the maximum height of the projectile\"\n",
    "    plot_of_max_height=plot(maximum_height(x), x, 0, 1000, color=\"green\", legend_label='Maximum Height')\n",
    "    \n",
    "    \"Creating a plot to show the longest range of the projectile\"\n",
    "    new_line=line([(0,0),(z(x),0)], legend_label='Range', color='blue', thickness=3)\n",
    "    \n",
    "    'Creating a list that contains the values of the longest range'\n",
    "    list_of_rangen=[round(((V_0**2*sin(alpha*m.pi/180)*cos(alpha*m.pi/180))+(V_0*cos(alpha*m.pi/180)*m.sqrt(V_0**2*(sin(alpha*m.pi/180))**2+2*g*y_0)))/g,4)]\n",
    "    \n",
    "    'Creating a list that contains the values of the max height'\n",
    "    list_of_height=[round(V_0**2.*(sin(alpha*m.pi/180.))**2/(2*g),4)]\n",
    "    \n",
    "    'Creating a dictionary that contains g of different celestial objects of the max height'\n",
    "    dict_of_celesitial_object = {round(1.6,1):'Moon', round(3.7,1) :'Mars', round(8.87,1):'Venus', \n",
    "                                 round(9.8,1) :'Earth',round(24.5,1) : 'Jupiter'}\n",
    "    \n",
    "    list_of_g = [g]\n",
    "    list_of_place = [dict_of_celesitial_object[i] for i in dict_of_celesitial_object if i==g]\n",
    "    \n",
    "    table_of_range_and_height=table([list_of_rangen, list_of_height, list_of_place], \n",
    "                                    header_column=[r\"$Range\\ (km)$\",\n",
    "                                                   r\"$Maximum\\ Height\\ (km)$\", r\"$Place$\"]).transpose()\n",
    "    \n",
    "    combined_plot=trajectory+plot_of_max_height+new_line          #Combine all the three plots\n",
    "    combined_plot.axes_labels([r'$Range$', r'$Height$'])          #defining the plot labels\n",
    "        \n",
    "    show(table_of_range_and_height)\n",
    "    \n",
    "    show(combined_plot)"
   ]
  }
 ],
 "metadata": {
  "kernelspec": {
   "display_name": "SageMath 9.4",
   "language": "sage",
   "name": "sagemath"
  },
  "language_info": {
   "codemirror_mode": {
    "name": "ipython",
    "version": 3
   },
   "file_extension": ".py",
   "mimetype": "text/x-python",
   "name": "python",
   "nbconvert_exporter": "python",
   "pygments_lexer": "ipython3",
   "version": "3.9.5"
  }
 },
 "nbformat": 4,
 "nbformat_minor": 4
}
